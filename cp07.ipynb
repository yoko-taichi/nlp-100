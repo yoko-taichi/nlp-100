{
 "cells": [
  {
   "cell_type": "markdown",
   "metadata": {},
   "source": [
    "## 第7章：機械学習\n",
    "本章では、Stanford Sentiment Treebank (SST) データセットを用い、評判分析器（ポジネガ分類器）を構築する。ここでは処理を簡略化するため、General Language Understanding Evaluation (GLUE) ベンチマークで配布されているSSTデータセットを用いる。"
   ]
  },
  {
   "cell_type": "markdown",
   "metadata": {},
   "source": [
    "### 60.データの入手・整形\n",
    "GLUEのウェブサイトからSST-2データセットを取得せよ。学習データ（train.tsv）と検証データ（dev.tsv）のぞれぞれについて、ポジティブ (1) とネガティブ (0) の事例数をカウントせよ。"
   ]
  },
  {
   "cell_type": "code",
   "execution_count": 1,
   "metadata": {},
   "outputs": [
    {
     "name": "stdout",
     "output_type": "stream",
     "text": [
      "--2025-04-19 20:33:11--  https://dl.fbaipublicfiles.com/glue/data/SST-2.zip\n",
      "Resolving dl.fbaipublicfiles.com (dl.fbaipublicfiles.com)... 13.249.160.27, 13.249.160.55, 13.249.160.108, ...\n",
      "Connecting to dl.fbaipublicfiles.com (dl.fbaipublicfiles.com)|13.249.160.27|:443... connected.\n",
      "HTTP request sent, awaiting response... 200 OK\n",
      "Length: 7439277 (7.1M) [application/zip]\n",
      "Saving to: ‘SST-2.zip’\n",
      "\n",
      "SST-2.zip           100%[===================>]   7.09M  42.2MB/s    in 0.2s    \n",
      "\n",
      "2025-04-19 20:33:11 (42.2 MB/s) - ‘SST-2.zip’ saved [7439277/7439277]\n",
      "\n"
     ]
    }
   ],
   "source": [
    "! wget https://dl.fbaipublicfiles.com/glue/data/SST-2.zip"
   ]
  },
  {
   "cell_type": "code",
   "execution_count": 2,
   "metadata": {},
   "outputs": [
    {
     "name": "stdout",
     "output_type": "stream",
     "text": [
      "Archive:  cp07-data/SST-2.zip\n",
      "   creating: SST-2/\n",
      "  inflating: SST-2/dev.tsv           \n",
      "   creating: SST-2/original/\n",
      "  inflating: SST-2/original/README.txt  \n",
      "  inflating: SST-2/original/SOStr.txt  \n",
      "  inflating: SST-2/original/STree.txt  \n",
      "  inflating: SST-2/original/datasetSentences.txt  \n",
      "  inflating: SST-2/original/datasetSplit.txt  \n",
      "  inflating: SST-2/original/dictionary.txt  \n",
      "  inflating: SST-2/original/original_rt_snippets.txt  \n",
      "  inflating: SST-2/original/sentiment_labels.txt  \n",
      "  inflating: SST-2/test.tsv          \n",
      "  inflating: SST-2/train.tsv         \n"
     ]
    }
   ],
   "source": [
    "! unzip cp07-data/SST-2.zip"
   ]
  },
  {
   "cell_type": "code",
   "execution_count": 8,
   "metadata": {},
   "outputs": [
    {
     "name": "stdout",
     "output_type": "stream",
     "text": [
      "train:Counter({1: 37569, 0: 29780})\n",
      "dev:Counter({1: 444, 0: 428})\n"
     ]
    }
   ],
   "source": [
    "import pandas as pd\n",
    "import collections\n",
    "\n",
    "def count(df):\n",
    "    label = df['label']\n",
    "    return collections.Counter(label)\n",
    "df_train = pd.read_csv('cp07-data/SST-2/train.tsv', sep='\\t')\n",
    "df_dev = pd.read_csv('cp07-data/SST-2/dev.tsv', sep='\\t')\n",
    "\n",
    "print(f'train:{count(df_train)}')\n",
    "print(f'dev:{count(df_dev)}')"
   ]
  },
  {
   "cell_type": "markdown",
   "metadata": {},
   "source": [
    "### 61.特徴ベクトル\n",
    "Bag of Words (BoW) に基づき、学習データ（train.tsv）および検証データ（dev.tsv）のテキストを特徴ベクトルに変換したい。ここで、ある事例のテキストの特徴ベクトルは、テキスト中に含まれる単語（スペース区切りのトークン）の出現頻度で構成する。例えば、”too loud , too goofy”というテキストに対応する特徴ベクトルは、以下のような辞書オブジェクトで表現される。"
   ]
  },
  {
   "cell_type": "markdown",
   "metadata": {},
   "source": [
    "{'too': 2, 'loud': 1, ',': 1, 'goofy': 1}"
   ]
  },
  {
   "cell_type": "markdown",
   "metadata": {},
   "source": [
    "各事例はテキスト、特徴ベクトル、ラベルを格納した辞書オブジェクトでまとめておく。例えば、先ほどの”too loud , too goofy”に対してラベル”0”（ネガティブ）が付与された事例は、以下のオブジェクトで表現される。"
   ]
  },
  {
   "cell_type": "markdown",
   "metadata": {},
   "source": [
    "{'text': 'too loud , too goofy', 'label': '0', 'feature': {'too': 2, 'loud': 1, ',': 1, 'goofy': 1}}"
   ]
  },
  {
   "cell_type": "markdown",
   "metadata": {},
   "source": [
    "学習データと検証データの各事例を上記のような辞書オブジェクトに変換したうえで、学習データと検証データのそれぞれを、辞書オブジェクトのリストとして表現せよ。さらに、学習データの最初の事例について、正しく特徴ベクトルに変換できたか、目視で確認せよ。"
   ]
  },
  {
   "cell_type": "code",
   "execution_count": 52,
   "metadata": {},
   "outputs": [
    {
     "name": "stdout",
     "output_type": "stream",
     "text": [
      "{'text': 'hide new secretions from the parental units ', 'label': 0, 'feature': {'hide': 1, 'new': 1, 'secretions': 1, 'from': 1, 'the': 1, 'parental': 1, 'units': 1, '': 1}}\n",
      "{'text': 'contains no wit , only labored gags ', 'label': 0, 'feature': {'contains': 1, 'no': 1, 'wit': 1, ',': 1, 'only': 1, 'labored': 1, 'gags': 1, '': 1}}\n",
      "{'text': 'that loves its characters and communicates something rather beautiful about human nature ', 'label': 1, 'feature': {'that': 1, 'loves': 1, 'its': 1, 'characters': 1, 'and': 1, 'communicates': 1, 'something': 1, 'rather': 1, 'beautiful': 1, 'about': 1, 'human': 1, 'nature': 1, '': 1}}\n",
      "{'text': 'remains utterly satisfied to remain the same throughout ', 'label': 0, 'feature': {'remains': 1, 'utterly': 1, 'satisfied': 1, 'to': 1, 'remain': 1, 'the': 1, 'same': 1, 'throughout': 1, '': 1}}\n",
      "{'text': 'on the worst revenge-of-the-nerds clichés the filmmakers could dredge up ', 'label': 0, 'feature': {'on': 1, 'the': 2, 'worst': 1, 'revenge-of-the-nerds': 1, 'clichés': 1, 'filmmakers': 1, 'could': 1, 'dredge': 1, 'up': 1, '': 1}}\n",
      "{'text': \"that 's far too tragic to merit such superficial treatment \", 'label': 0, 'feature': {'that': 1, \"'s\": 1, 'far': 1, 'too': 1, 'tragic': 1, 'to': 1, 'merit': 1, 'such': 1, 'superficial': 1, 'treatment': 1, '': 1}}\n",
      "{'text': 'demonstrates that the director of such hollywood blockbusters as patriot games can still turn out a small , personal film with an emotional wallop . ', 'label': 1, 'feature': {'demonstrates': 1, 'that': 1, 'the': 1, 'director': 1, 'of': 1, 'such': 1, 'hollywood': 1, 'blockbusters': 1, 'as': 1, 'patriot': 1, 'games': 1, 'can': 1, 'still': 1, 'turn': 1, 'out': 1, 'a': 1, 'small': 1, ',': 1, 'personal': 1, 'film': 1, 'with': 1, 'an': 1, 'emotional': 1, 'wallop': 1, '.': 1, '': 1}}\n",
      "{'text': 'of saucy ', 'label': 1, 'feature': {'of': 1, 'saucy': 1, '': 1}}\n",
      "{'text': \"a depressed fifteen-year-old 's suicidal poetry \", 'label': 0, 'feature': {'a': 1, 'depressed': 1, 'fifteen-year-old': 1, \"'s\": 1, 'suicidal': 1, 'poetry': 1, '': 1}}\n",
      "{'text': \"are more deeply thought through than in most ` right-thinking ' films \", 'label': 1, 'feature': {'are': 1, 'more': 1, 'deeply': 1, 'thought': 1, 'through': 1, 'than': 1, 'in': 1, 'most': 1, '`': 1, 'right-thinking': 1, \"'\": 1, 'films': 1, '': 1}}\n"
     ]
    }
   ],
   "source": [
    "import collections\n",
    "\n",
    "def make_dic(path):\n",
    "    df = pd.read_csv(path, sep='\\t')\n",
    "    dic = df.apply(count_word, axis=1)\n",
    "    return dic\n",
    "\n",
    "\n",
    "def count_word(data):\n",
    "    words = data['sentence'].split(' ')\n",
    "    feature = dict(collections.Counter(words))\n",
    "    return {'text': data['sentence'], 'label': data['label'], 'feature': feature}\n",
    "\n",
    "train_dic = make_dic('cp07-data/SST-2/train.tsv')\n",
    "dev_dic = make_dic('cp07-data/SST-2/dev.tsv')\n",
    "\n",
    "for i in range(10):\n",
    "    print(train_dic[i])"
   ]
  },
  {
   "cell_type": "markdown",
   "metadata": {},
   "source": [
    "### 62.学習\n",
    "61で構築した学習データの特徴ベクトルを用いて、ロジスティック回帰モデルを学習せよ。"
   ]
  },
  {
   "cell_type": "code",
   "execution_count": 69,
   "metadata": {},
   "outputs": [
    {
     "name": "stderr",
     "output_type": "stream",
     "text": [
      "/net/nas8/data/home/yokoyama/nlp-100/.venv/lib/python3.12/site-packages/sklearn/linear_model/_logistic.py:465: ConvergenceWarning: lbfgs failed to converge (status=1):\n",
      "STOP: TOTAL NO. of ITERATIONS REACHED LIMIT.\n",
      "\n",
      "Increase the number of iterations (max_iter) or scale the data as shown in:\n",
      "    https://scikit-learn.org/stable/modules/preprocessing.html\n",
      "Please also refer to the documentation for alternative solver options:\n",
      "    https://scikit-learn.org/stable/modules/linear_model.html#logistic-regression\n",
      "  n_iter_i = _check_optimize_result(\n"
     ]
    },
    {
     "data": {
      "text/html": [
       "<style>#sk-container-id-2 {\n",
       "  /* Definition of color scheme common for light and dark mode */\n",
       "  --sklearn-color-text: #000;\n",
       "  --sklearn-color-text-muted: #666;\n",
       "  --sklearn-color-line: gray;\n",
       "  /* Definition of color scheme for unfitted estimators */\n",
       "  --sklearn-color-unfitted-level-0: #fff5e6;\n",
       "  --sklearn-color-unfitted-level-1: #f6e4d2;\n",
       "  --sklearn-color-unfitted-level-2: #ffe0b3;\n",
       "  --sklearn-color-unfitted-level-3: chocolate;\n",
       "  /* Definition of color scheme for fitted estimators */\n",
       "  --sklearn-color-fitted-level-0: #f0f8ff;\n",
       "  --sklearn-color-fitted-level-1: #d4ebff;\n",
       "  --sklearn-color-fitted-level-2: #b3dbfd;\n",
       "  --sklearn-color-fitted-level-3: cornflowerblue;\n",
       "\n",
       "  /* Specific color for light theme */\n",
       "  --sklearn-color-text-on-default-background: var(--sg-text-color, var(--theme-code-foreground, var(--jp-content-font-color1, black)));\n",
       "  --sklearn-color-background: var(--sg-background-color, var(--theme-background, var(--jp-layout-color0, white)));\n",
       "  --sklearn-color-border-box: var(--sg-text-color, var(--theme-code-foreground, var(--jp-content-font-color1, black)));\n",
       "  --sklearn-color-icon: #696969;\n",
       "\n",
       "  @media (prefers-color-scheme: dark) {\n",
       "    /* Redefinition of color scheme for dark theme */\n",
       "    --sklearn-color-text-on-default-background: var(--sg-text-color, var(--theme-code-foreground, var(--jp-content-font-color1, white)));\n",
       "    --sklearn-color-background: var(--sg-background-color, var(--theme-background, var(--jp-layout-color0, #111)));\n",
       "    --sklearn-color-border-box: var(--sg-text-color, var(--theme-code-foreground, var(--jp-content-font-color1, white)));\n",
       "    --sklearn-color-icon: #878787;\n",
       "  }\n",
       "}\n",
       "\n",
       "#sk-container-id-2 {\n",
       "  color: var(--sklearn-color-text);\n",
       "}\n",
       "\n",
       "#sk-container-id-2 pre {\n",
       "  padding: 0;\n",
       "}\n",
       "\n",
       "#sk-container-id-2 input.sk-hidden--visually {\n",
       "  border: 0;\n",
       "  clip: rect(1px 1px 1px 1px);\n",
       "  clip: rect(1px, 1px, 1px, 1px);\n",
       "  height: 1px;\n",
       "  margin: -1px;\n",
       "  overflow: hidden;\n",
       "  padding: 0;\n",
       "  position: absolute;\n",
       "  width: 1px;\n",
       "}\n",
       "\n",
       "#sk-container-id-2 div.sk-dashed-wrapped {\n",
       "  border: 1px dashed var(--sklearn-color-line);\n",
       "  margin: 0 0.4em 0.5em 0.4em;\n",
       "  box-sizing: border-box;\n",
       "  padding-bottom: 0.4em;\n",
       "  background-color: var(--sklearn-color-background);\n",
       "}\n",
       "\n",
       "#sk-container-id-2 div.sk-container {\n",
       "  /* jupyter's `normalize.less` sets `[hidden] { display: none; }`\n",
       "     but bootstrap.min.css set `[hidden] { display: none !important; }`\n",
       "     so we also need the `!important` here to be able to override the\n",
       "     default hidden behavior on the sphinx rendered scikit-learn.org.\n",
       "     See: https://github.com/scikit-learn/scikit-learn/issues/21755 */\n",
       "  display: inline-block !important;\n",
       "  position: relative;\n",
       "}\n",
       "\n",
       "#sk-container-id-2 div.sk-text-repr-fallback {\n",
       "  display: none;\n",
       "}\n",
       "\n",
       "div.sk-parallel-item,\n",
       "div.sk-serial,\n",
       "div.sk-item {\n",
       "  /* draw centered vertical line to link estimators */\n",
       "  background-image: linear-gradient(var(--sklearn-color-text-on-default-background), var(--sklearn-color-text-on-default-background));\n",
       "  background-size: 2px 100%;\n",
       "  background-repeat: no-repeat;\n",
       "  background-position: center center;\n",
       "}\n",
       "\n",
       "/* Parallel-specific style estimator block */\n",
       "\n",
       "#sk-container-id-2 div.sk-parallel-item::after {\n",
       "  content: \"\";\n",
       "  width: 100%;\n",
       "  border-bottom: 2px solid var(--sklearn-color-text-on-default-background);\n",
       "  flex-grow: 1;\n",
       "}\n",
       "\n",
       "#sk-container-id-2 div.sk-parallel {\n",
       "  display: flex;\n",
       "  align-items: stretch;\n",
       "  justify-content: center;\n",
       "  background-color: var(--sklearn-color-background);\n",
       "  position: relative;\n",
       "}\n",
       "\n",
       "#sk-container-id-2 div.sk-parallel-item {\n",
       "  display: flex;\n",
       "  flex-direction: column;\n",
       "}\n",
       "\n",
       "#sk-container-id-2 div.sk-parallel-item:first-child::after {\n",
       "  align-self: flex-end;\n",
       "  width: 50%;\n",
       "}\n",
       "\n",
       "#sk-container-id-2 div.sk-parallel-item:last-child::after {\n",
       "  align-self: flex-start;\n",
       "  width: 50%;\n",
       "}\n",
       "\n",
       "#sk-container-id-2 div.sk-parallel-item:only-child::after {\n",
       "  width: 0;\n",
       "}\n",
       "\n",
       "/* Serial-specific style estimator block */\n",
       "\n",
       "#sk-container-id-2 div.sk-serial {\n",
       "  display: flex;\n",
       "  flex-direction: column;\n",
       "  align-items: center;\n",
       "  background-color: var(--sklearn-color-background);\n",
       "  padding-right: 1em;\n",
       "  padding-left: 1em;\n",
       "}\n",
       "\n",
       "\n",
       "/* Toggleable style: style used for estimator/Pipeline/ColumnTransformer box that is\n",
       "clickable and can be expanded/collapsed.\n",
       "- Pipeline and ColumnTransformer use this feature and define the default style\n",
       "- Estimators will overwrite some part of the style using the `sk-estimator` class\n",
       "*/\n",
       "\n",
       "/* Pipeline and ColumnTransformer style (default) */\n",
       "\n",
       "#sk-container-id-2 div.sk-toggleable {\n",
       "  /* Default theme specific background. It is overwritten whether we have a\n",
       "  specific estimator or a Pipeline/ColumnTransformer */\n",
       "  background-color: var(--sklearn-color-background);\n",
       "}\n",
       "\n",
       "/* Toggleable label */\n",
       "#sk-container-id-2 label.sk-toggleable__label {\n",
       "  cursor: pointer;\n",
       "  display: flex;\n",
       "  width: 100%;\n",
       "  margin-bottom: 0;\n",
       "  padding: 0.5em;\n",
       "  box-sizing: border-box;\n",
       "  text-align: center;\n",
       "  align-items: start;\n",
       "  justify-content: space-between;\n",
       "  gap: 0.5em;\n",
       "}\n",
       "\n",
       "#sk-container-id-2 label.sk-toggleable__label .caption {\n",
       "  font-size: 0.6rem;\n",
       "  font-weight: lighter;\n",
       "  color: var(--sklearn-color-text-muted);\n",
       "}\n",
       "\n",
       "#sk-container-id-2 label.sk-toggleable__label-arrow:before {\n",
       "  /* Arrow on the left of the label */\n",
       "  content: \"▸\";\n",
       "  float: left;\n",
       "  margin-right: 0.25em;\n",
       "  color: var(--sklearn-color-icon);\n",
       "}\n",
       "\n",
       "#sk-container-id-2 label.sk-toggleable__label-arrow:hover:before {\n",
       "  color: var(--sklearn-color-text);\n",
       "}\n",
       "\n",
       "/* Toggleable content - dropdown */\n",
       "\n",
       "#sk-container-id-2 div.sk-toggleable__content {\n",
       "  max-height: 0;\n",
       "  max-width: 0;\n",
       "  overflow: hidden;\n",
       "  text-align: left;\n",
       "  /* unfitted */\n",
       "  background-color: var(--sklearn-color-unfitted-level-0);\n",
       "}\n",
       "\n",
       "#sk-container-id-2 div.sk-toggleable__content.fitted {\n",
       "  /* fitted */\n",
       "  background-color: var(--sklearn-color-fitted-level-0);\n",
       "}\n",
       "\n",
       "#sk-container-id-2 div.sk-toggleable__content pre {\n",
       "  margin: 0.2em;\n",
       "  border-radius: 0.25em;\n",
       "  color: var(--sklearn-color-text);\n",
       "  /* unfitted */\n",
       "  background-color: var(--sklearn-color-unfitted-level-0);\n",
       "}\n",
       "\n",
       "#sk-container-id-2 div.sk-toggleable__content.fitted pre {\n",
       "  /* unfitted */\n",
       "  background-color: var(--sklearn-color-fitted-level-0);\n",
       "}\n",
       "\n",
       "#sk-container-id-2 input.sk-toggleable__control:checked~div.sk-toggleable__content {\n",
       "  /* Expand drop-down */\n",
       "  max-height: 200px;\n",
       "  max-width: 100%;\n",
       "  overflow: auto;\n",
       "}\n",
       "\n",
       "#sk-container-id-2 input.sk-toggleable__control:checked~label.sk-toggleable__label-arrow:before {\n",
       "  content: \"▾\";\n",
       "}\n",
       "\n",
       "/* Pipeline/ColumnTransformer-specific style */\n",
       "\n",
       "#sk-container-id-2 div.sk-label input.sk-toggleable__control:checked~label.sk-toggleable__label {\n",
       "  color: var(--sklearn-color-text);\n",
       "  background-color: var(--sklearn-color-unfitted-level-2);\n",
       "}\n",
       "\n",
       "#sk-container-id-2 div.sk-label.fitted input.sk-toggleable__control:checked~label.sk-toggleable__label {\n",
       "  background-color: var(--sklearn-color-fitted-level-2);\n",
       "}\n",
       "\n",
       "/* Estimator-specific style */\n",
       "\n",
       "/* Colorize estimator box */\n",
       "#sk-container-id-2 div.sk-estimator input.sk-toggleable__control:checked~label.sk-toggleable__label {\n",
       "  /* unfitted */\n",
       "  background-color: var(--sklearn-color-unfitted-level-2);\n",
       "}\n",
       "\n",
       "#sk-container-id-2 div.sk-estimator.fitted input.sk-toggleable__control:checked~label.sk-toggleable__label {\n",
       "  /* fitted */\n",
       "  background-color: var(--sklearn-color-fitted-level-2);\n",
       "}\n",
       "\n",
       "#sk-container-id-2 div.sk-label label.sk-toggleable__label,\n",
       "#sk-container-id-2 div.sk-label label {\n",
       "  /* The background is the default theme color */\n",
       "  color: var(--sklearn-color-text-on-default-background);\n",
       "}\n",
       "\n",
       "/* On hover, darken the color of the background */\n",
       "#sk-container-id-2 div.sk-label:hover label.sk-toggleable__label {\n",
       "  color: var(--sklearn-color-text);\n",
       "  background-color: var(--sklearn-color-unfitted-level-2);\n",
       "}\n",
       "\n",
       "/* Label box, darken color on hover, fitted */\n",
       "#sk-container-id-2 div.sk-label.fitted:hover label.sk-toggleable__label.fitted {\n",
       "  color: var(--sklearn-color-text);\n",
       "  background-color: var(--sklearn-color-fitted-level-2);\n",
       "}\n",
       "\n",
       "/* Estimator label */\n",
       "\n",
       "#sk-container-id-2 div.sk-label label {\n",
       "  font-family: monospace;\n",
       "  font-weight: bold;\n",
       "  display: inline-block;\n",
       "  line-height: 1.2em;\n",
       "}\n",
       "\n",
       "#sk-container-id-2 div.sk-label-container {\n",
       "  text-align: center;\n",
       "}\n",
       "\n",
       "/* Estimator-specific */\n",
       "#sk-container-id-2 div.sk-estimator {\n",
       "  font-family: monospace;\n",
       "  border: 1px dotted var(--sklearn-color-border-box);\n",
       "  border-radius: 0.25em;\n",
       "  box-sizing: border-box;\n",
       "  margin-bottom: 0.5em;\n",
       "  /* unfitted */\n",
       "  background-color: var(--sklearn-color-unfitted-level-0);\n",
       "}\n",
       "\n",
       "#sk-container-id-2 div.sk-estimator.fitted {\n",
       "  /* fitted */\n",
       "  background-color: var(--sklearn-color-fitted-level-0);\n",
       "}\n",
       "\n",
       "/* on hover */\n",
       "#sk-container-id-2 div.sk-estimator:hover {\n",
       "  /* unfitted */\n",
       "  background-color: var(--sklearn-color-unfitted-level-2);\n",
       "}\n",
       "\n",
       "#sk-container-id-2 div.sk-estimator.fitted:hover {\n",
       "  /* fitted */\n",
       "  background-color: var(--sklearn-color-fitted-level-2);\n",
       "}\n",
       "\n",
       "/* Specification for estimator info (e.g. \"i\" and \"?\") */\n",
       "\n",
       "/* Common style for \"i\" and \"?\" */\n",
       "\n",
       ".sk-estimator-doc-link,\n",
       "a:link.sk-estimator-doc-link,\n",
       "a:visited.sk-estimator-doc-link {\n",
       "  float: right;\n",
       "  font-size: smaller;\n",
       "  line-height: 1em;\n",
       "  font-family: monospace;\n",
       "  background-color: var(--sklearn-color-background);\n",
       "  border-radius: 1em;\n",
       "  height: 1em;\n",
       "  width: 1em;\n",
       "  text-decoration: none !important;\n",
       "  margin-left: 0.5em;\n",
       "  text-align: center;\n",
       "  /* unfitted */\n",
       "  border: var(--sklearn-color-unfitted-level-1) 1pt solid;\n",
       "  color: var(--sklearn-color-unfitted-level-1);\n",
       "}\n",
       "\n",
       ".sk-estimator-doc-link.fitted,\n",
       "a:link.sk-estimator-doc-link.fitted,\n",
       "a:visited.sk-estimator-doc-link.fitted {\n",
       "  /* fitted */\n",
       "  border: var(--sklearn-color-fitted-level-1) 1pt solid;\n",
       "  color: var(--sklearn-color-fitted-level-1);\n",
       "}\n",
       "\n",
       "/* On hover */\n",
       "div.sk-estimator:hover .sk-estimator-doc-link:hover,\n",
       ".sk-estimator-doc-link:hover,\n",
       "div.sk-label-container:hover .sk-estimator-doc-link:hover,\n",
       ".sk-estimator-doc-link:hover {\n",
       "  /* unfitted */\n",
       "  background-color: var(--sklearn-color-unfitted-level-3);\n",
       "  color: var(--sklearn-color-background);\n",
       "  text-decoration: none;\n",
       "}\n",
       "\n",
       "div.sk-estimator.fitted:hover .sk-estimator-doc-link.fitted:hover,\n",
       ".sk-estimator-doc-link.fitted:hover,\n",
       "div.sk-label-container:hover .sk-estimator-doc-link.fitted:hover,\n",
       ".sk-estimator-doc-link.fitted:hover {\n",
       "  /* fitted */\n",
       "  background-color: var(--sklearn-color-fitted-level-3);\n",
       "  color: var(--sklearn-color-background);\n",
       "  text-decoration: none;\n",
       "}\n",
       "\n",
       "/* Span, style for the box shown on hovering the info icon */\n",
       ".sk-estimator-doc-link span {\n",
       "  display: none;\n",
       "  z-index: 9999;\n",
       "  position: relative;\n",
       "  font-weight: normal;\n",
       "  right: .2ex;\n",
       "  padding: .5ex;\n",
       "  margin: .5ex;\n",
       "  width: min-content;\n",
       "  min-width: 20ex;\n",
       "  max-width: 50ex;\n",
       "  color: var(--sklearn-color-text);\n",
       "  box-shadow: 2pt 2pt 4pt #999;\n",
       "  /* unfitted */\n",
       "  background: var(--sklearn-color-unfitted-level-0);\n",
       "  border: .5pt solid var(--sklearn-color-unfitted-level-3);\n",
       "}\n",
       "\n",
       ".sk-estimator-doc-link.fitted span {\n",
       "  /* fitted */\n",
       "  background: var(--sklearn-color-fitted-level-0);\n",
       "  border: var(--sklearn-color-fitted-level-3);\n",
       "}\n",
       "\n",
       ".sk-estimator-doc-link:hover span {\n",
       "  display: block;\n",
       "}\n",
       "\n",
       "/* \"?\"-specific style due to the `<a>` HTML tag */\n",
       "\n",
       "#sk-container-id-2 a.estimator_doc_link {\n",
       "  float: right;\n",
       "  font-size: 1rem;\n",
       "  line-height: 1em;\n",
       "  font-family: monospace;\n",
       "  background-color: var(--sklearn-color-background);\n",
       "  border-radius: 1rem;\n",
       "  height: 1rem;\n",
       "  width: 1rem;\n",
       "  text-decoration: none;\n",
       "  /* unfitted */\n",
       "  color: var(--sklearn-color-unfitted-level-1);\n",
       "  border: var(--sklearn-color-unfitted-level-1) 1pt solid;\n",
       "}\n",
       "\n",
       "#sk-container-id-2 a.estimator_doc_link.fitted {\n",
       "  /* fitted */\n",
       "  border: var(--sklearn-color-fitted-level-1) 1pt solid;\n",
       "  color: var(--sklearn-color-fitted-level-1);\n",
       "}\n",
       "\n",
       "/* On hover */\n",
       "#sk-container-id-2 a.estimator_doc_link:hover {\n",
       "  /* unfitted */\n",
       "  background-color: var(--sklearn-color-unfitted-level-3);\n",
       "  color: var(--sklearn-color-background);\n",
       "  text-decoration: none;\n",
       "}\n",
       "\n",
       "#sk-container-id-2 a.estimator_doc_link.fitted:hover {\n",
       "  /* fitted */\n",
       "  background-color: var(--sklearn-color-fitted-level-3);\n",
       "}\n",
       "</style><div id=\"sk-container-id-2\" class=\"sk-top-container\"><div class=\"sk-text-repr-fallback\"><pre>LogisticRegression()</pre><b>In a Jupyter environment, please rerun this cell to show the HTML representation or trust the notebook. <br />On GitHub, the HTML representation is unable to render, please try loading this page with nbviewer.org.</b></div><div class=\"sk-container\" hidden><div class=\"sk-item\"><div class=\"sk-estimator fitted sk-toggleable\"><input class=\"sk-toggleable__control sk-hidden--visually\" id=\"sk-estimator-id-2\" type=\"checkbox\" checked><label for=\"sk-estimator-id-2\" class=\"sk-toggleable__label fitted sk-toggleable__label-arrow\"><div><div>LogisticRegression</div></div><div><a class=\"sk-estimator-doc-link fitted\" rel=\"noreferrer\" target=\"_blank\" href=\"https://scikit-learn.org/1.6/modules/generated/sklearn.linear_model.LogisticRegression.html\">?<span>Documentation for LogisticRegression</span></a><span class=\"sk-estimator-doc-link fitted\">i<span>Fitted</span></span></div></label><div class=\"sk-toggleable__content fitted\"><pre>LogisticRegression()</pre></div> </div></div></div></div>"
      ],
      "text/plain": [
       "LogisticRegression()"
      ]
     },
     "execution_count": 69,
     "metadata": {},
     "output_type": "execute_result"
    }
   ],
   "source": [
    "from sklearn.feature_extraction import DictVectorizer\n",
    "from sklearn.linear_model import LogisticRegression\n",
    "\n",
    "X = [x['feature'] for x in train_dic]\n",
    "Y = [y['label'] for y in train_dic]\n",
    "\n",
    "# DictVectorizer でベクトル化\n",
    "vectorizer = DictVectorizer(sparse=False)\n",
    "X = vectorizer.fit_transform(X)\n",
    "\n",
    "\n",
    "model = LogisticRegression()\n",
    "model.fit(X, Y)"
   ]
  },
  {
   "cell_type": "markdown",
   "metadata": {},
   "source": [
    "### 63.予測\n",
    "学習したロジスティック回帰モデルを用い、検証データの先頭の事例のラベル（ポジネガ）を予測せよ。また、予測されたラベルが検証データに付与されていたラベルと一致しているか、確認せよ。"
   ]
  },
  {
   "cell_type": "code",
   "execution_count": 71,
   "metadata": {},
   "outputs": [
    {
     "name": "stdout",
     "output_type": "stream",
     "text": [
      "true label: 1\n",
      "out put: [1]\n"
     ]
    }
   ],
   "source": [
    "true_label = dev_dic[0]['label']\n",
    "X = vectorizer.transform([dev_dic[0]['feature']])  # ← [] で包むのがポイント\n",
    "Y_pred = model.predict(X)\n",
    "print(f'true label: {true_label}')\n",
    "print(f'out put: {Y_pred}')\n"
   ]
  },
  {
   "cell_type": "markdown",
   "metadata": {},
   "source": [
    "### 64.条件付き確率\n",
    "学習したロジスティック回帰モデルを用い、検証データの先頭の事例を各ラベル（ネガポジ）に分類するときの条件付き確率を求めよ。"
   ]
  },
  {
   "cell_type": "code",
   "execution_count": 75,
   "metadata": {},
   "outputs": [
    {
     "name": "stdout",
     "output_type": "stream",
     "text": [
      "0: 0.004434954956884729\n",
      "1: 0.9955650450431153\n"
     ]
    }
   ],
   "source": [
    "pro = model.predict_proba(X)\n",
    "\n",
    "print(f'0: {pro[0][0]}')\n",
    "print(f'1: {pro[0][1]}')"
   ]
  },
  {
   "cell_type": "markdown",
   "metadata": {},
   "source": [
    "### 65.テキストのポジネガの予測\n",
    "与えられたテキストのポジネガを予測するプログラムを実装せよ。例えば、テキストとして”the worst movie I ‘ve ever seen”を与え、ロジスティック回帰モデルの予測結果を確認せよ。"
   ]
  },
  {
   "cell_type": "code",
   "execution_count": 76,
   "metadata": {},
   "outputs": [
    {
     "name": "stdout",
     "output_type": "stream",
     "text": [
      "out put: [0]\n"
     ]
    }
   ],
   "source": [
    "def make_feature(text):\n",
    "    word = text.split()\n",
    "    feature = dict(collections.Counter(word))\n",
    "    return feature\n",
    "\n",
    "text = \"the worst movie I ‘ve ever seen\"\n",
    "feature = make_feature(text)\n",
    "X = vectorizer.transform(feature)\n",
    "\n",
    "Y_pred = model.predict(X)\n",
    "print(f'out put: {Y_pred}')"
   ]
  },
  {
   "cell_type": "markdown",
   "metadata": {},
   "source": [
    "### 66.混合行列の作成\n",
    "学習したロジスティック回帰モデルの検証用データにおける混合行列（confusion matrix）を求めよ。"
   ]
  },
  {
   "cell_type": "code",
   "execution_count": 91,
   "metadata": {},
   "outputs": [
    {
     "name": "stdout",
     "output_type": "stream",
     "text": [
      "                 predict_Positive  predict_Negative\n",
      "actual_Positive               374                70\n",
      "actual_Negative                96               332\n"
     ]
    },
    {
     "data": {
      "image/png": "[encoded data removed]",
      "text/plain": [
       "<Figure size 640x480 with 2 Axes>"
      ]
     },
     "metadata": {},
     "output_type": "display_data"
    }
   ],
   "source": [
    "from sklearn.metrics import confusion_matrix\n",
    "import numpy as np\n",
    "import matplotlib.pyplot as plt\n",
    "import seaborn as sns\n",
    "\n",
    "\n",
    "X = [x[\"feature\"] for x in dev_dic]\n",
    "Y_true = [y[\"label\"] for y in dev_dic]\n",
    "\n",
    "X = np.squeeze(vectorizer.transform(X))\n",
    "Y_pred = model.predict(X)\n",
    "\n",
    "cm = confusion_matrix(y_true=Y_true, y_pred=Y_pred)\n",
    "\n",
    "# y_trueに渡すのは、評価用の目的変数データ\n",
    "# y_predに渡すのは、X_testでpredict()関数を使って予測した結果\n",
    "\n",
    "# 混同行列をデータフレーム化\n",
    "df_cm = pd.DataFrame(np.rot90(cm, 2), index=[\"actual_Positive\", \"actual_Negative\"], columns=[\"predict_Positive\", \"predict_Negative\"])\n",
    "print(df_cm)\n",
    "\n",
    "# heatmapによる混同行列の可視化\n",
    "sns.heatmap(df_cm, annot=True, fmt=\"2g\", cmap='Blues')\n",
    "plt.yticks(va='center')\n",
    "plt.show()\n"
   ]
  },
  {
   "cell_type": "markdown",
   "metadata": {},
   "source": [
    "### 67.精度の計測\n",
    "学習したロジスティック回帰モデルの正解率、適合率、再現率、F1スコアを、学習データおよび検証データ上で計測せよ。"
   ]
  },
  {
   "cell_type": "code",
   "execution_count": 92,
   "metadata": {},
   "outputs": [
    {
     "name": "stdout",
     "output_type": "stream",
     "text": [
      "train\n",
      "Accuracy : 0.9401178933614456\n",
      "Precision: 0.9402436462927957\n",
      "Recall   : 0.9532327184646916\n",
      "F1 Score : 0.9466936304638037\n",
      "dev\n",
      "Accuracy : 0.8096330275229358\n",
      "Precision: 0.7957446808510639\n",
      "Recall   : 0.8423423423423423\n",
      "F1 Score : 0.8183807439824945\n"
     ]
    }
   ],
   "source": [
    "from sklearn.metrics import accuracy_score, precision_score, recall_score, f1_score\n",
    "\n",
    "def do_measure(dic, name):\n",
    "    X = [x[\"feature\"] for x in dic]\n",
    "    Y_true = [y[\"label\"] for y in dic]\n",
    "\n",
    "    X = np.squeeze(vectorizer.transform(X))\n",
    "    Y_pred = model.predict(X)\n",
    "    print(name)\n",
    "    print(f\"Accuracy : {accuracy_score(Y_true, Y_pred)}\")\n",
    "    print(f\"Precision: {precision_score(Y_true, Y_pred)}\")\n",
    "    print(f\"Recall   : {recall_score(Y_true, Y_pred)}\")\n",
    "    print(f\"F1 Score : {f1_score(Y_true, Y_pred)}\")\n",
    "\n",
    "\n",
    "do_measure(train_dic, 'train')\n",
    "do_measure(dev_dic, 'dev')"
   ]
  },
  {
   "cell_type": "markdown",
   "metadata": {},
   "source": [
    "### 68.特徴量の重みの確認\n",
    "学習したロジスティック回帰モデルの中で、重みの高い特徴量トップ20と、重みの低い特徴量トップ20を確認せよ。"
   ]
  },
  {
   "cell_type": "code",
   "execution_count": 97,
   "metadata": {},
   "outputs": [
    {
     "name": "stdout",
     "output_type": "stream",
     "text": [
      "重みの高い特徴量 Top 20:\n",
      "refreshing           3.5648\n",
      "remarkable           3.4821\n",
      "powerful             3.2853\n",
      "hilarious            3.1282\n",
      "treat                3.0991\n",
      "terrific             2.9899\n",
      "wonderful            2.9777\n",
      "beautiful            2.9464\n",
      "charmer              2.8888\n",
      "enjoyable            2.8770\n",
      "appealing            2.8198\n",
      "vividly              2.7796\n",
      "likable              2.7421\n",
      "miracle              2.6707\n",
      "impressive           2.5866\n",
      "wonderfully          2.5599\n",
      "fascinating          2.5582\n",
      "prose                2.5566\n",
      "brilliant            2.5346\n",
      "engrossing           2.5276\n",
      "\n",
      "重みの低い特徴量 Top 20:\n",
      "lacking              -4.3294\n",
      "lacks                -4.1355\n",
      "worst                -3.8895\n",
      "devoid               -3.7459\n",
      "mess                 -3.6958\n",
      "failure              -3.6500\n",
      "bore                 -3.3718\n",
      "stupid               -3.3100\n",
      "loses                -3.2297\n",
      "waste                -3.1920\n",
      "lousy                -3.1734\n",
      "pointless            -3.1146\n",
      "lack                 -3.1120\n",
      "flat                 -3.1101\n",
      "depressing           -3.0961\n",
      "unfortunately        -3.0510\n",
      "squanders            -3.0257\n",
      "repetitive           -2.9836\n",
      "useless              -2.9760\n",
      "poor                 -2.9645\n"
     ]
    }
   ],
   "source": [
    "import numpy as np\n",
    "\n",
    "# 特徴量の名前（vectorizerを使っている前提）\n",
    "feature_names = vectorizer.get_feature_names_out()\n",
    "\n",
    "# 学習済みロジスティック回帰モデルの係数を取得（1次元にする）\n",
    "weights = model.coef_[0]\n",
    "\n",
    "# 重みの大きい順、低い順のインデックス\n",
    "top20_idx = np.argsort(weights)[-20:][::-1]  # 高い順\n",
    "bottom20_idx = np.argsort(weights)[:20]      # 低い順\n",
    "\n",
    "print(\"重みの高い特徴量 Top 20:\")\n",
    "for i in top20_idx:\n",
    "    print(f\"{feature_names[i]:<20} {weights[i]:.4f}\")\n",
    "\n",
    "print(\"\\n重みの低い特徴量 Top 20:\")\n",
    "for i in bottom20_idx:\n",
    "    print(f\"{feature_names[i]:<20} {weights[i]:.4f}\")"
   ]
  },
  {
   "cell_type": "markdown",
   "metadata": {},
   "source": [
    "### 69.正規化パラメータの変更\n",
    "ロジスティック回帰モデルを学習するとき、正則化の係数（ハイパーパラメータ）を調整することで、学習時の適合度合いを制御できる。正則化の係数を変化させながらロジスティック回帰モデルを学習し、検証データ上の正解率を求めよ。実験の結果は、正則化パラメータを横軸、正解率を縦軸としたグラフにまとめよ。"
   ]
  },
  {
   "cell_type": "code",
   "execution_count": 98,
   "metadata": {},
   "outputs": [
    {
     "name": "stdout",
     "output_type": "stream",
     "text": [
      "C=0.0001 → Accuracy=0.5206\n",
      "C=0.0008 → Accuracy=0.6732\n",
      "C=0.0060 → Accuracy=0.7339\n",
      "C=0.0464 → Accuracy=0.8028\n",
      "C=0.3594 → Accuracy=0.8073\n",
      "C=2.7826 → Accuracy=0.8177\n",
      "C=21.5443 → Accuracy=0.8165\n",
      "C=166.8101 → Accuracy=0.7890\n",
      "C=1291.5497 → Accuracy=0.7878\n",
      "C=10000.0000 → Accuracy=0.7913\n"
     ]
    },
    {
     "data": {
      "image/png": "[encoded data removed]",
      "text/plain": [
       "<Figure size 800x500 with 1 Axes>"
      ]
     },
     "metadata": {},
     "output_type": "display_data"
    }
   ],
   "source": [
    "# データ準備\n",
    "X_train = [x['feature'] for x in train_dic]\n",
    "y_train = [x['label'] for x in train_dic]\n",
    "X_dev = [x['feature'] for x in dev_dic]\n",
    "y_dev = [x['label'] for x in dev_dic]\n",
    "\n",
    "# 特徴ベクトル化\n",
    "vectorizer = DictVectorizer(sparse=False)\n",
    "X_train_vec = vectorizer.fit_transform(X_train)\n",
    "X_dev_vec = vectorizer.transform(X_dev)\n",
    "\n",
    "# Cの値を変えて精度を検証\n",
    "C_values = np.logspace(-4, 4, 10)  # 0.0001 〜 10000 の対数刻み\n",
    "accuracy_list = []\n",
    "\n",
    "for C in C_values:\n",
    "    model = LogisticRegression(C=C, max_iter=1000)\n",
    "    model.fit(X_train_vec, y_train)\n",
    "    y_pred = model.predict(X_dev_vec)\n",
    "    acc = accuracy_score(y_dev, y_pred)\n",
    "    accuracy_list.append(acc)\n",
    "    print(f\"C={C:.4f} → Accuracy={acc:.4f}\")\n",
    "\n",
    "# グラフ描画\n",
    "plt.figure(figsize=(8, 5))\n",
    "plt.plot(C_values, accuracy_list, marker='o')\n",
    "plt.xscale('log')\n",
    "plt.xlabel(\"Regularization Parameter C (log scale)\")\n",
    "plt.ylabel(\"Validation Accuracy\")\n",
    "plt.title(\"Effect of Regularization on Validation Accuracy\")\n",
    "plt.grid(True)\n",
    "plt.show()"
   ]
  }
 ],
 "metadata": {
  "kernelspec": {
   "display_name": "nlp-100",
   "language": "python",
   "name": "nlp-100"
  },
  "language_info": {
   "codemirror_mode": {
    "name": "ipython",
    "version": 3
   },
   "file_extension": ".py",
   "mimetype": "text/x-python",
   "name": "python",
   "nbconvert_exporter": "python",
   "pygments_lexer": "ipython3",
   "version": "3.12.8"
  }
 },
 "nbformat": 4,
 "nbformat_minor": 2
}
